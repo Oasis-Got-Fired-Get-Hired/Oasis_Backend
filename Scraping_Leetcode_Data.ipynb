{
  "nbformat": 4,
  "nbformat_minor": 0,
  "metadata": {
    "colab": {
      "provenance": [],
      "gpuType": "T4",
      "authorship_tag": "ABX9TyPNJjghWBY/fbk/oBcZ4+xi",
      "include_colab_link": true
    },
    "kernelspec": {
      "name": "python3",
      "display_name": "Python 3"
    },
    "language_info": {
      "name": "python"
    },
    "accelerator": "GPU"
  },
  "cells": [
    {
      "cell_type": "markdown",
      "metadata": {
        "id": "view-in-github",
        "colab_type": "text"
      },
      "source": [
        "<a href=\"https://colab.research.google.com/github/ighoshsubho/JobsAPI/blob/main/Scraping_Leetcode_Data.ipynb\" target=\"_parent\"><img src=\"https://colab.research.google.com/assets/colab-badge.svg\" alt=\"Open In Colab\"/></a>"
      ]
    },
    {
      "cell_type": "markdown",
      "source": [
        "## Scraping Community Stats"
      ],
      "metadata": {
        "id": "Wf_owJRkPRxF"
      }
    },
    {
      "cell_type": "code",
      "execution_count": null,
      "metadata": {
        "colab": {
          "base_uri": "https://localhost:8080/"
        },
        "id": "wqw3sQX4cpLw",
        "outputId": "3986d724-ad16-4cea-f869-a7dece79a8d2"
      },
      "outputs": [
        {
          "output_type": "stream",
          "name": "stderr",
          "text": [
            "<ipython-input-3-279422b8539f>:18: DeprecationWarning: The 'text' argument to find()-type methods is deprecated. Use 'string' instead.\n",
            "  views_div = community_stats.find('div', class_='text-label-2 dark:text-dark-label-2', text='Views')\n",
            "<ipython-input-3-279422b8539f>:22: DeprecationWarning: The 'text' argument to find()-type methods is deprecated. Use 'string' instead.\n",
            "  solutions_div = community_stats.find('div', class_='text-label-2 dark:text-dark-label-2', text='Solution')\n",
            "<ipython-input-3-279422b8539f>:26: DeprecationWarning: The 'text' argument to find()-type methods is deprecated. Use 'string' instead.\n",
            "  discussions_div = community_stats.find('div', class_='text-label-2 dark:text-dark-label-2', text='Discuss')\n",
            "<ipython-input-3-279422b8539f>:30: DeprecationWarning: The 'text' argument to find()-type methods is deprecated. Use 'string' instead.\n",
            "  reputation_div = community_stats.find('div', class_='text-label-2 dark:text-dark-label-2', text='Reputation')\n"
          ]
        }
      ],
      "source": [
        "import requests\n",
        "from bs4 import BeautifulSoup\n",
        "\n",
        "def scrape_leetcode_community_stats(username):\n",
        "    url = f\"https://leetcode.com/{username}/\"\n",
        "\n",
        "    # Send HTTP GET request\n",
        "    response = requests.get(url)\n",
        "\n",
        "    if response.status_code == 200:\n",
        "        # Parse the HTML content\n",
        "        soup = BeautifulSoup(response.content, \"html.parser\")\n",
        "\n",
        "        # Find the community stats section\n",
        "        community_stats = soup.find(\"div\", {\"class\": \"mt-4 flex flex-col space-y-4\"})\n",
        "\n",
        "        # Extract views\n",
        "        views_div = community_stats.find('div', class_='text-label-2 dark:text-dark-label-2', text='Views')\n",
        "        views_count = views_div.find_next('div').text\n",
        "\n",
        "        # Extract solutions\n",
        "        solutions_div = community_stats.find('div', class_='text-label-2 dark:text-dark-label-2', text='Solution')\n",
        "        solutions_count = solutions_div.find_next('div').text\n",
        "\n",
        "        # Extract discussions\n",
        "        discussions_div = community_stats.find('div', class_='text-label-2 dark:text-dark-label-2', text='Discuss')\n",
        "        discussions_count = discussions_div.find_next('div').text\n",
        "\n",
        "        # Extract reputation\n",
        "        reputation_div = community_stats.find('div', class_='text-label-2 dark:text-dark-label-2', text='Reputation')\n",
        "        reputation_count = reputation_div.find_next('div').text\n",
        "\n",
        "        return {\n",
        "            'views': views_count,\n",
        "            'solutions': solutions_count,\n",
        "            'discussions': discussions_count,\n",
        "            'reputation': reputation_count\n",
        "        }\n",
        "    else:\n",
        "      print(\"Failed to retrieve data. Please check the username or try again later.\")\n",
        "\n",
        "# Usage example\n",
        "hi = scrape_leetcode_community_stats(\"kshatriyas\")\n"
      ]
    },
    {
      "cell_type": "code",
      "source": [
        "hi"
      ],
      "metadata": {
        "colab": {
          "base_uri": "https://localhost:8080/"
        },
        "id": "tzKlu_Ze2ocM",
        "outputId": "30849de6-6157-4f58-fff3-2b27bd126cd0"
      },
      "execution_count": null,
      "outputs": [
        {
          "output_type": "execute_result",
          "data": {
            "text/plain": [
              "{'views': '626.3K',\n",
              " 'solutions': '103',\n",
              " 'discussions': '1',\n",
              " 'reputation': '5.2K'}"
            ]
          },
          "metadata": {},
          "execution_count": 2
        }
      ]
    },
    {
      "cell_type": "markdown",
      "source": [
        "## Scraping Languages Known"
      ],
      "metadata": {
        "id": "GMXeoeUWPbkN"
      }
    },
    {
      "cell_type": "code",
      "source": [
        "def scrape_leetcode_languages(username):\n",
        "    url = f\"https://leetcode.com/{username}/\"\n",
        "\n",
        "    # Send HTTP GET request\n",
        "    response = requests.get(url)\n",
        "\n",
        "    if response.status_code == 200:\n",
        "        # Parse the HTML content\n",
        "        soup = BeautifulSoup(response.content, \"html.parser\")\n",
        "\n",
        "        language_spans = soup.find_all('span', class_='inline-flex items-center px-2 whitespace-nowrap text-xs leading-6 rounded-full text-label-3 dark:text-dark-label-3 bg-fill-3 dark:bg-dark-fill-3 notranslate')\n",
        "\n",
        "        languages = [span.get_text(strip=True) for span in language_spans]\n",
        "\n",
        "        return languages\n",
        "    else:\n",
        "        print(\"Failed to retrieve data. Please check the username or try again later.\")\n",
        "\n",
        "yoyo = scrape_leetcode_languages(\"A_drishti1\")\n",
        "yoyo"
      ],
      "metadata": {
        "colab": {
          "base_uri": "https://localhost:8080/"
        },
        "id": "tyVQN3ZH-Njc",
        "outputId": "1b9fdfb7-c3be-49aa-e6d4-391856a11a74"
      },
      "execution_count": null,
      "outputs": [
        {
          "output_type": "execute_result",
          "data": {
            "text/plain": [
              "['C++', 'JavaScript']"
            ]
          },
          "metadata": {},
          "execution_count": 4
        }
      ]
    },
    {
      "cell_type": "markdown",
      "source": [
        "## Scraping Skills"
      ],
      "metadata": {
        "id": "ld6H4A76QQlE"
      }
    },
    {
      "cell_type": "code",
      "source": [
        "def scrape_leetcode_skills(username):\n",
        "    url = f\"https://leetcode.com/{username}/\"\n",
        "\n",
        "    # Send HTTP GET request\n",
        "    response = requests.get(url)\n",
        "\n",
        "    if response.status_code == 200:\n",
        "        # Parse the HTML content\n",
        "        soup = BeautifulSoup(response.content, \"html.parser\")\n",
        "\n",
        "        skills_divs = soup.find_all('div', class_='mt-3 flex flex-wrap')\n",
        "\n",
        "        for skills_div in skills_divs:\n",
        "\n",
        "          skills = skills_div.find_all('span', class_='text-label-2')\n",
        "\n",
        "          skill_list = [skill.get_text(strip=True) for skill in skills]\n",
        "\n",
        "          print(skill_list)\n",
        "    else:\n",
        "        print(\"Failed to retrieve data. Please check the username or try again later.\")\n",
        "\n",
        "yoyo = scrape_leetcode_skills(\"A_drishti1\")\n",
        "yoyo"
      ],
      "metadata": {
        "colab": {
          "base_uri": "https://localhost:8080/"
        },
        "id": "bKXYNrJbQUMM",
        "outputId": "56d5bad7-0010-44a5-b074-07c445060979"
      },
      "execution_count": null,
      "outputs": [
        {
          "output_type": "stream",
          "name": "stdout",
          "text": [
            "['Dynamic Programming', 'Divide and Conquer', 'Union Find']\n",
            "['Depth-First Search', 'Tree', 'Binary Search']\n",
            "['Array', 'String', 'Sorting']\n"
          ]
        }
      ]
    },
    {
      "cell_type": "markdown",
      "source": [
        "## Scraping Problems Solved"
      ],
      "metadata": {
        "id": "SlnGpGBSXsIj"
      }
    },
    {
      "cell_type": "code",
      "source": [
        "def scrape_leetcode_problems_solved(username):\n",
        "    url = f\"https://leetcode.com/{username}/\"\n",
        "\n",
        "    # Send HTTP GET request\n",
        "    response = requests.get(url)\n",
        "\n",
        "    if response.status_code == 200:\n",
        "        # Parse the HTML content\n",
        "        soup = BeautifulSoup(response.content, \"html.parser\")\n",
        "\n",
        "        solved_div = soup.find('div', class_='flex w-full items-end text-xs')\n",
        "\n",
        "        # Find the div element for Easy, Medium, Hard\n",
        "        easy_div = solved_div.find('div', text='Easy')\n",
        "        medium_div = solved_div.find('div', text='Medium')\n",
        "        hard_div = solved_div.find('div', text='Hard')\n",
        "\n",
        "        # Extract the number of solved problems for Easy\n",
        "        easy_count = easy_div.find_next('span').get_text(strip=True)\n",
        "        medium_count = medium_div.find_next('span').get_text(strip=True)\n",
        "        hard_count = hard_div.find_next('span').get_text(strip=True)\n",
        "\n",
        "        sum = int(easy_count) + int(medium_count) + int(hard_count)\n",
        "\n",
        "        print(f\"{easy_count}, {medium_count}, {hard_count}, {sum}\")\n",
        "    else:\n",
        "        print(\"Failed to retrieve data. Please check the username or try again later.\")\n",
        "\n",
        "yoyo = scrape_leetcode_problems_solved(\"Ctulh\")\n",
        "yoyo"
      ],
      "metadata": {
        "colab": {
          "base_uri": "https://localhost:8080/"
        },
        "id": "GAlDtag6M4hw",
        "outputId": "278a34a4-744b-49ce-db8f-56d8ee54fe67"
      },
      "execution_count": null,
      "outputs": [
        {
          "output_type": "stream",
          "name": "stdout",
          "text": [
            "73, 169, 21, 263\n"
          ]
        },
        {
          "output_type": "stream",
          "name": "stderr",
          "text": [
            "<ipython-input-25-fdab947d1b97>:14: DeprecationWarning: The 'text' argument to find()-type methods is deprecated. Use 'string' instead.\n",
            "  easy_div = solved_div.find('div', text='Easy')\n",
            "<ipython-input-25-fdab947d1b97>:15: DeprecationWarning: The 'text' argument to find()-type methods is deprecated. Use 'string' instead.\n",
            "  medium_div = soup.find('div', text='Medium')\n",
            "<ipython-input-25-fdab947d1b97>:16: DeprecationWarning: The 'text' argument to find()-type methods is deprecated. Use 'string' instead.\n",
            "  hard_div = soup.find('div', text='Hard')\n"
          ]
        }
      ]
    },
    {
      "cell_type": "markdown",
      "source": [
        "## Scraping Badges and Contributions"
      ],
      "metadata": {
        "id": "wGEDRGX5XzTU"
      }
    },
    {
      "cell_type": "code",
      "source": [
        "def scrape_leetcode_badges(username):\n",
        "    url = f\"https://leetcode.com/{username}/\"\n",
        "\n",
        "    # Send HTTP GET request\n",
        "    response = requests.get(url)\n",
        "\n",
        "    if response.status_code == 200:\n",
        "        # Parse the HTML content\n",
        "        soup = BeautifulSoup(response.content, \"html.parser\")\n",
        "\n",
        "        badges_div = soup.find('div', class_='flex items-start justify-between')\n",
        "\n",
        "        badge = badges_div.find('div', text='Badges')\n",
        "\n",
        "        badge_count = badge.find_next('div').get_text(strip=True)\n",
        "\n",
        "        # Find the span element for the contribution count\n",
        "        contribution_span = soup.find('span', class_='mr-[5px] text-base font-medium lc-md:text-xl')\n",
        "\n",
        "        # Extract the contribution count\n",
        "        contribution_count = contribution_span.get_text(strip=True)\n",
        "\n",
        "        # Print the extracted contribution count\n",
        "        print(f\"{contribution_count}, {badge_count}\")\n",
        "\n",
        "    else:\n",
        "        print(\"Failed to retrieve data. Please check the username or try again later.\")\n",
        "\n",
        "yoyo = scrape_leetcode_badges(\"Ctulh\")\n",
        "yoyo"
      ],
      "metadata": {
        "colab": {
          "base_uri": "https://localhost:8080/"
        },
        "id": "ETpcEXlTThgt",
        "outputId": "8bcb967d-ed0e-435a-b766-04b94658bef4"
      },
      "execution_count": null,
      "outputs": [
        {
          "output_type": "stream",
          "name": "stdout",
          "text": [
            "2,290, 1\n"
          ]
        },
        {
          "output_type": "stream",
          "name": "stderr",
          "text": [
            "<ipython-input-37-43f3c4bbef69>:13: DeprecationWarning: The 'text' argument to find()-type methods is deprecated. Use 'string' instead.\n",
            "  badge = badges_div.find('div', text='Badges')\n"
          ]
        }
      ]
    }
  ]
}